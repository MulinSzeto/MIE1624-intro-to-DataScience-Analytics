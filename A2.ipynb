{
  "cells": [
    {
      "cell_type": "code",
      "execution_count": 150,
      "id": "3a6b3fb6",
      "metadata": {
        "id": "3a6b3fb6"
      },
      "outputs": [],
      "source": [
        "import pandas as pd\n",
        "import numpy as np\n",
        "from random import *\n",
        "import seaborn as sns\n",
        "import matplotlib.pyplot as plt\n",
        "%matplotlib inline\n",
        "\n",
        "from sklearn.model_selection import train_test_split\n",
        "from sklearn.linear_model import LogisticRegression\n",
        "import warnings\n",
        "warnings.filterwarnings(\"ignore\")"
      ]
    },
    {
      "cell_type": "code",
      "execution_count": 151,
      "id": "eU5JU8itP0_z",
      "metadata": {
        "id": "eU5JU8itP0_z",
        "colab": {
          "base_uri": "https://localhost:8080/"
        },
        "outputId": "b7f56353-e6a7-4c34-d470-781081107c12"
      },
      "outputs": [
        {
          "output_type": "execute_result",
          "data": {
            "text/plain": [
              "(8137, 296)"
            ]
          },
          "metadata": {},
          "execution_count": 151
        }
      ],
      "source": [
        "salaries = pd.read_csv(\"/content/kaggle_survey_2022_responses.csv\")\n",
        "# Drop rows where Q29 is missing or empty\n",
        "salaries = salaries[salaries[\"Q29\"].notna() & (salaries[\"Q29\"].str.strip() != \"\")]\n",
        "salaries.shape"
      ]
    },
    {
      "cell_type": "markdown",
      "id": "m1orhf7n3lHc",
      "metadata": {
        "id": "m1orhf7n3lHc"
      },
      "source": [
        "# Question 1: Data Cleaning"
      ]
    },
    {
      "cell_type": "markdown",
      "id": "O0rkunI2HIPb",
      "metadata": {
        "id": "O0rkunI2HIPb"
      },
      "source": [
        "- Drop the second row since it is about the question details\n",
        "- Drop other information too if they are irrelevant to the task"
      ]
    },
    {
      "cell_type": "code",
      "execution_count": 152,
      "id": "283681fd",
      "metadata": {
        "id": "283681fd"
      },
      "outputs": [],
      "source": [
        "# # Convert duration column to numeric (if not already)\n",
        "# salaries[\"Duration (in seconds)\"] = pd.to_numeric(salaries[\"Duration (in seconds)\"], errors='coerce')\n",
        "\n",
        "# # Check correlation with salary (Q29_Encoded)\n",
        "# if \"Q29_Encoded\" in salaries.columns:\n",
        "#     correlation = salaries[\"Duration (in seconds)\"].corr(salaries[\"Q29_Encoded\"])\n",
        "# else:\n",
        "#     correlation = None\n",
        "\n",
        "# # Plot distribution of duration\n",
        "# plt.figure(figsize=(10, 5))\n",
        "# sns.histplot(salaries[\"Duration (in seconds)\"], bins=50, kde=True)\n",
        "# plt.xlabel(\"Survey Duration (seconds)\")\n",
        "# plt.ylabel(\"Frequency\")\n",
        "# plt.title(\"Distribution of Survey Duration\")\n",
        "# plt.show()\n",
        "\n",
        "# # Display correlation result\n",
        "# correlation"
      ]
    },
    {
      "cell_type": "code",
      "execution_count": 153,
      "id": "Xq_yFQpkQLO8",
      "metadata": {
        "id": "Xq_yFQpkQLO8",
        "colab": {
          "base_uri": "https://localhost:8080/"
        },
        "outputId": "4c0331cf-94cd-4276-d68a-d56f4d561a65"
      },
      "outputs": [
        {
          "output_type": "stream",
          "name": "stdout",
          "text": [
            "Dropped completely empty columns: ['Q6_11', 'Q12_14', 'Q13_13', 'Q14_15', 'Q15_14', 'Q17_14', 'Q18_13', 'Q19_7', 'Q20_5', 'Q31_11', 'Q35_15', 'Q36_14', 'Q39_11', 'Q41_8', 'Q42_8', 'Q44_11']\n"
          ]
        }
      ],
      "source": [
        "def CleanData(df):\n",
        "    \"\"\"\n",
        "    Cleans the dataset by:\n",
        "    1. Dropping the first row containing question details.\n",
        "    2. Dropping the 'Duration (in seconds)' column as it is not predictive of salary.\n",
        "    3. Removing completely empty columns.\n",
        "    \"\"\"\n",
        "\n",
        "    # Drop the first row containing question details\n",
        "    df.drop(index=0, inplace=True)\n",
        "    df.reset_index(drop=True, inplace=True)\n",
        "\n",
        "    # Drop 'Duration (in seconds)' since it is not predictive of salary\n",
        "    if \"Duration (in seconds)\" in df.columns:\n",
        "        df.drop(columns=[\"Duration (in seconds)\"], inplace=True)\n",
        "\n",
        "    # Identify and drop completely empty columns -- answered None\n",
        "    empty_columns = df.columns[df.isna().all()].tolist()\n",
        "    if empty_columns:\n",
        "        df.drop(columns=empty_columns, inplace=True)\n",
        "        print(f\"Dropped completely empty columns: {empty_columns}\")\n",
        "    else:\n",
        "        print(\"No completely empty columns found.\")\n",
        "\n",
        "    return df\n",
        "\n",
        "salaries = CleanData(salaries)"
      ]
    },
    {
      "cell_type": "code",
      "source": [
        "# How to check if the CleanData() did what I want?\n",
        "salaries"
      ],
      "metadata": {
        "colab": {
          "base_uri": "https://localhost:8080/",
          "height": 1000
        },
        "id": "CDKBdZsU7wrh",
        "outputId": "5be32e91-be06-4973-e09f-de1da335e4d2"
      },
      "id": "CDKBdZsU7wrh",
      "execution_count": 154,
      "outputs": [
        {
          "output_type": "execute_result",
          "data": {
            "text/plain": [
              "         Q2     Q3                        Q4  Q5      Q6_1 Q6_2  \\\n",
              "0     55-59    Man                    France  No  Coursera  NaN   \n",
              "1     30-34    Man                   Germany  No  Coursera  edX   \n",
              "2       70+    Man                 Australia  No  Coursera  NaN   \n",
              "3     40-44    Man  United States of America  No  Coursera  NaN   \n",
              "4     40-44    Man  United States of America  No  Coursera  NaN   \n",
              "...     ...    ...                       ...  ..       ...  ...   \n",
              "8131  40-44    Man  United States of America  No       NaN  NaN   \n",
              "8132  35-39    Man                     India  No       NaN  NaN   \n",
              "8133  40-44    Man                     India  No       NaN  NaN   \n",
              "8134  25-29    Man                    Turkey  No       NaN  NaN   \n",
              "8135  35-39  Woman                    Israel  No       NaN  NaN   \n",
              "\n",
              "                      Q6_3      Q6_4     Q6_5     Q6_6  ...  \\\n",
              "0     Kaggle Learn Courses       NaN      NaN      NaN  ...   \n",
              "1                      NaN       NaN      NaN  Udacity  ...   \n",
              "2     Kaggle Learn Courses       NaN      NaN      NaN  ...   \n",
              "3     Kaggle Learn Courses       NaN  Fast.ai  Udacity  ...   \n",
              "4                      NaN       NaN      NaN  Udacity  ...   \n",
              "...                    ...       ...      ...      ...  ...   \n",
              "8131  Kaggle Learn Courses  DataCamp      NaN      NaN  ...   \n",
              "8132                   NaN       NaN      NaN      NaN  ...   \n",
              "8133                   NaN  DataCamp      NaN      NaN  ...   \n",
              "8134                   NaN  DataCamp      NaN      NaN  ...   \n",
              "8135  Kaggle Learn Courses       NaN      NaN  Udacity  ...   \n",
              "\n",
              "                                                  Q44_2  \\\n",
              "0                                                   NaN   \n",
              "1     Email newsletters (Data Elixir, O'Reilly Data ...   \n",
              "2     Email newsletters (Data Elixir, O'Reilly Data ...   \n",
              "3     Email newsletters (Data Elixir, O'Reilly Data ...   \n",
              "4                                                   NaN   \n",
              "...                                                 ...   \n",
              "8131                                                NaN   \n",
              "8132                                                NaN   \n",
              "8133                                                NaN   \n",
              "8134                                                NaN   \n",
              "8135                                                NaN   \n",
              "\n",
              "                                Q44_3                            Q44_4  \\\n",
              "0                                 NaN  Kaggle (notebooks, forums, etc)   \n",
              "1     Reddit (r/machinelearning, etc)                              NaN   \n",
              "2                                 NaN                              NaN   \n",
              "3                                 NaN                              NaN   \n",
              "4                                 NaN                              NaN   \n",
              "...                               ...                              ...   \n",
              "8131                              NaN  Kaggle (notebooks, forums, etc)   \n",
              "8132                              NaN                              NaN   \n",
              "8133                              NaN                              NaN   \n",
              "8134                              NaN  Kaggle (notebooks, forums, etc)   \n",
              "8135                              NaN                              NaN   \n",
              "\n",
              "                                                  Q44_5  \\\n",
              "0     Course Forums (forums.fast.ai, Coursera forums...   \n",
              "1                                                   NaN   \n",
              "2                                                   NaN   \n",
              "3                                                   NaN   \n",
              "4                                                   NaN   \n",
              "...                                                 ...   \n",
              "8131                                                NaN   \n",
              "8132                                                NaN   \n",
              "8133                                                NaN   \n",
              "8134                                                NaN   \n",
              "8135                                                NaN   \n",
              "\n",
              "                                                  Q44_6  \\\n",
              "0                                                   NaN   \n",
              "1     YouTube (Kaggle YouTube, Cloud AI Adventures, ...   \n",
              "2                                                   NaN   \n",
              "3                                                   NaN   \n",
              "4                                                   NaN   \n",
              "...                                                 ...   \n",
              "8131  YouTube (Kaggle YouTube, Cloud AI Adventures, ...   \n",
              "8132  YouTube (Kaggle YouTube, Cloud AI Adventures, ...   \n",
              "8133  YouTube (Kaggle YouTube, Cloud AI Adventures, ...   \n",
              "8134  YouTube (Kaggle YouTube, Cloud AI Adventures, ...   \n",
              "8135  YouTube (Kaggle YouTube, Cloud AI Adventures, ...   \n",
              "\n",
              "                                                  Q44_7  \\\n",
              "0                                                   NaN   \n",
              "1                                                   NaN   \n",
              "2     Podcasts (Chai Time Data Science, O’Reilly Dat...   \n",
              "3     Podcasts (Chai Time Data Science, O’Reilly Dat...   \n",
              "4     Podcasts (Chai Time Data Science, O’Reilly Dat...   \n",
              "...                                                 ...   \n",
              "8131                                                NaN   \n",
              "8132                                                NaN   \n",
              "8133                                                NaN   \n",
              "8134                                                NaN   \n",
              "8135                                                NaN   \n",
              "\n",
              "                                                  Q44_8  \\\n",
              "0     Blogs (Towards Data Science, Analytics Vidhya,...   \n",
              "1     Blogs (Towards Data Science, Analytics Vidhya,...   \n",
              "2                                                   NaN   \n",
              "3     Blogs (Towards Data Science, Analytics Vidhya,...   \n",
              "4     Blogs (Towards Data Science, Analytics Vidhya,...   \n",
              "...                                                 ...   \n",
              "8131  Blogs (Towards Data Science, Analytics Vidhya,...   \n",
              "8132                                                NaN   \n",
              "8133                                                NaN   \n",
              "8134                                                NaN   \n",
              "8135                                                NaN   \n",
              "\n",
              "                                                  Q44_9 Q44_10 Q44_12  \n",
              "0                                                   NaN    NaN    NaN  \n",
              "1                                                   NaN    NaN    NaN  \n",
              "2                                                   NaN    NaN    NaN  \n",
              "3                                                   NaN    NaN    NaN  \n",
              "4     Journal Publications (peer-reviewed journals, ...    NaN    NaN  \n",
              "...                                                 ...    ...    ...  \n",
              "8131                                                NaN    NaN    NaN  \n",
              "8132                                                NaN    NaN    NaN  \n",
              "8133                                                NaN    NaN    NaN  \n",
              "8134                                                NaN    NaN    NaN  \n",
              "8135                                                NaN    NaN    NaN  \n",
              "\n",
              "[8136 rows x 279 columns]"
            ],
            "text/html": [
              "\n",
              "  <div id=\"df-320cbaaf-2464-43e0-a9a5-90edb2a6fdf5\" class=\"colab-df-container\">\n",
              "    <div>\n",
              "<style scoped>\n",
              "    .dataframe tbody tr th:only-of-type {\n",
              "        vertical-align: middle;\n",
              "    }\n",
              "\n",
              "    .dataframe tbody tr th {\n",
              "        vertical-align: top;\n",
              "    }\n",
              "\n",
              "    .dataframe thead th {\n",
              "        text-align: right;\n",
              "    }\n",
              "</style>\n",
              "<table border=\"1\" class=\"dataframe\">\n",
              "  <thead>\n",
              "    <tr style=\"text-align: right;\">\n",
              "      <th></th>\n",
              "      <th>Q2</th>\n",
              "      <th>Q3</th>\n",
              "      <th>Q4</th>\n",
              "      <th>Q5</th>\n",
              "      <th>Q6_1</th>\n",
              "      <th>Q6_2</th>\n",
              "      <th>Q6_3</th>\n",
              "      <th>Q6_4</th>\n",
              "      <th>Q6_5</th>\n",
              "      <th>Q6_6</th>\n",
              "      <th>...</th>\n",
              "      <th>Q44_2</th>\n",
              "      <th>Q44_3</th>\n",
              "      <th>Q44_4</th>\n",
              "      <th>Q44_5</th>\n",
              "      <th>Q44_6</th>\n",
              "      <th>Q44_7</th>\n",
              "      <th>Q44_8</th>\n",
              "      <th>Q44_9</th>\n",
              "      <th>Q44_10</th>\n",
              "      <th>Q44_12</th>\n",
              "    </tr>\n",
              "  </thead>\n",
              "  <tbody>\n",
              "    <tr>\n",
              "      <th>0</th>\n",
              "      <td>55-59</td>\n",
              "      <td>Man</td>\n",
              "      <td>France</td>\n",
              "      <td>No</td>\n",
              "      <td>Coursera</td>\n",
              "      <td>NaN</td>\n",
              "      <td>Kaggle Learn Courses</td>\n",
              "      <td>NaN</td>\n",
              "      <td>NaN</td>\n",
              "      <td>NaN</td>\n",
              "      <td>...</td>\n",
              "      <td>NaN</td>\n",
              "      <td>NaN</td>\n",
              "      <td>Kaggle (notebooks, forums, etc)</td>\n",
              "      <td>Course Forums (forums.fast.ai, Coursera forums...</td>\n",
              "      <td>NaN</td>\n",
              "      <td>NaN</td>\n",
              "      <td>Blogs (Towards Data Science, Analytics Vidhya,...</td>\n",
              "      <td>NaN</td>\n",
              "      <td>NaN</td>\n",
              "      <td>NaN</td>\n",
              "    </tr>\n",
              "    <tr>\n",
              "      <th>1</th>\n",
              "      <td>30-34</td>\n",
              "      <td>Man</td>\n",
              "      <td>Germany</td>\n",
              "      <td>No</td>\n",
              "      <td>Coursera</td>\n",
              "      <td>edX</td>\n",
              "      <td>NaN</td>\n",
              "      <td>NaN</td>\n",
              "      <td>NaN</td>\n",
              "      <td>Udacity</td>\n",
              "      <td>...</td>\n",
              "      <td>Email newsletters (Data Elixir, O'Reilly Data ...</td>\n",
              "      <td>Reddit (r/machinelearning, etc)</td>\n",
              "      <td>NaN</td>\n",
              "      <td>NaN</td>\n",
              "      <td>YouTube (Kaggle YouTube, Cloud AI Adventures, ...</td>\n",
              "      <td>NaN</td>\n",
              "      <td>Blogs (Towards Data Science, Analytics Vidhya,...</td>\n",
              "      <td>NaN</td>\n",
              "      <td>NaN</td>\n",
              "      <td>NaN</td>\n",
              "    </tr>\n",
              "    <tr>\n",
              "      <th>2</th>\n",
              "      <td>70+</td>\n",
              "      <td>Man</td>\n",
              "      <td>Australia</td>\n",
              "      <td>No</td>\n",
              "      <td>Coursera</td>\n",
              "      <td>NaN</td>\n",
              "      <td>Kaggle Learn Courses</td>\n",
              "      <td>NaN</td>\n",
              "      <td>NaN</td>\n",
              "      <td>NaN</td>\n",
              "      <td>...</td>\n",
              "      <td>Email newsletters (Data Elixir, O'Reilly Data ...</td>\n",
              "      <td>NaN</td>\n",
              "      <td>NaN</td>\n",
              "      <td>NaN</td>\n",
              "      <td>NaN</td>\n",
              "      <td>Podcasts (Chai Time Data Science, O’Reilly Dat...</td>\n",
              "      <td>NaN</td>\n",
              "      <td>NaN</td>\n",
              "      <td>NaN</td>\n",
              "      <td>NaN</td>\n",
              "    </tr>\n",
              "    <tr>\n",
              "      <th>3</th>\n",
              "      <td>40-44</td>\n",
              "      <td>Man</td>\n",
              "      <td>United States of America</td>\n",
              "      <td>No</td>\n",
              "      <td>Coursera</td>\n",
              "      <td>NaN</td>\n",
              "      <td>Kaggle Learn Courses</td>\n",
              "      <td>NaN</td>\n",
              "      <td>Fast.ai</td>\n",
              "      <td>Udacity</td>\n",
              "      <td>...</td>\n",
              "      <td>Email newsletters (Data Elixir, O'Reilly Data ...</td>\n",
              "      <td>NaN</td>\n",
              "      <td>NaN</td>\n",
              "      <td>NaN</td>\n",
              "      <td>NaN</td>\n",
              "      <td>Podcasts (Chai Time Data Science, O’Reilly Dat...</td>\n",
              "      <td>Blogs (Towards Data Science, Analytics Vidhya,...</td>\n",
              "      <td>NaN</td>\n",
              "      <td>NaN</td>\n",
              "      <td>NaN</td>\n",
              "    </tr>\n",
              "    <tr>\n",
              "      <th>4</th>\n",
              "      <td>40-44</td>\n",
              "      <td>Man</td>\n",
              "      <td>United States of America</td>\n",
              "      <td>No</td>\n",
              "      <td>Coursera</td>\n",
              "      <td>NaN</td>\n",
              "      <td>NaN</td>\n",
              "      <td>NaN</td>\n",
              "      <td>NaN</td>\n",
              "      <td>Udacity</td>\n",
              "      <td>...</td>\n",
              "      <td>NaN</td>\n",
              "      <td>NaN</td>\n",
              "      <td>NaN</td>\n",
              "      <td>NaN</td>\n",
              "      <td>NaN</td>\n",
              "      <td>Podcasts (Chai Time Data Science, O’Reilly Dat...</td>\n",
              "      <td>Blogs (Towards Data Science, Analytics Vidhya,...</td>\n",
              "      <td>Journal Publications (peer-reviewed journals, ...</td>\n",
              "      <td>NaN</td>\n",
              "      <td>NaN</td>\n",
              "    </tr>\n",
              "    <tr>\n",
              "      <th>...</th>\n",
              "      <td>...</td>\n",
              "      <td>...</td>\n",
              "      <td>...</td>\n",
              "      <td>...</td>\n",
              "      <td>...</td>\n",
              "      <td>...</td>\n",
              "      <td>...</td>\n",
              "      <td>...</td>\n",
              "      <td>...</td>\n",
              "      <td>...</td>\n",
              "      <td>...</td>\n",
              "      <td>...</td>\n",
              "      <td>...</td>\n",
              "      <td>...</td>\n",
              "      <td>...</td>\n",
              "      <td>...</td>\n",
              "      <td>...</td>\n",
              "      <td>...</td>\n",
              "      <td>...</td>\n",
              "      <td>...</td>\n",
              "      <td>...</td>\n",
              "    </tr>\n",
              "    <tr>\n",
              "      <th>8131</th>\n",
              "      <td>40-44</td>\n",
              "      <td>Man</td>\n",
              "      <td>United States of America</td>\n",
              "      <td>No</td>\n",
              "      <td>NaN</td>\n",
              "      <td>NaN</td>\n",
              "      <td>Kaggle Learn Courses</td>\n",
              "      <td>DataCamp</td>\n",
              "      <td>NaN</td>\n",
              "      <td>NaN</td>\n",
              "      <td>...</td>\n",
              "      <td>NaN</td>\n",
              "      <td>NaN</td>\n",
              "      <td>Kaggle (notebooks, forums, etc)</td>\n",
              "      <td>NaN</td>\n",
              "      <td>YouTube (Kaggle YouTube, Cloud AI Adventures, ...</td>\n",
              "      <td>NaN</td>\n",
              "      <td>Blogs (Towards Data Science, Analytics Vidhya,...</td>\n",
              "      <td>NaN</td>\n",
              "      <td>NaN</td>\n",
              "      <td>NaN</td>\n",
              "    </tr>\n",
              "    <tr>\n",
              "      <th>8132</th>\n",
              "      <td>35-39</td>\n",
              "      <td>Man</td>\n",
              "      <td>India</td>\n",
              "      <td>No</td>\n",
              "      <td>NaN</td>\n",
              "      <td>NaN</td>\n",
              "      <td>NaN</td>\n",
              "      <td>NaN</td>\n",
              "      <td>NaN</td>\n",
              "      <td>NaN</td>\n",
              "      <td>...</td>\n",
              "      <td>NaN</td>\n",
              "      <td>NaN</td>\n",
              "      <td>NaN</td>\n",
              "      <td>NaN</td>\n",
              "      <td>YouTube (Kaggle YouTube, Cloud AI Adventures, ...</td>\n",
              "      <td>NaN</td>\n",
              "      <td>NaN</td>\n",
              "      <td>NaN</td>\n",
              "      <td>NaN</td>\n",
              "      <td>NaN</td>\n",
              "    </tr>\n",
              "    <tr>\n",
              "      <th>8133</th>\n",
              "      <td>40-44</td>\n",
              "      <td>Man</td>\n",
              "      <td>India</td>\n",
              "      <td>No</td>\n",
              "      <td>NaN</td>\n",
              "      <td>NaN</td>\n",
              "      <td>NaN</td>\n",
              "      <td>DataCamp</td>\n",
              "      <td>NaN</td>\n",
              "      <td>NaN</td>\n",
              "      <td>...</td>\n",
              "      <td>NaN</td>\n",
              "      <td>NaN</td>\n",
              "      <td>NaN</td>\n",
              "      <td>NaN</td>\n",
              "      <td>YouTube (Kaggle YouTube, Cloud AI Adventures, ...</td>\n",
              "      <td>NaN</td>\n",
              "      <td>NaN</td>\n",
              "      <td>NaN</td>\n",
              "      <td>NaN</td>\n",
              "      <td>NaN</td>\n",
              "    </tr>\n",
              "    <tr>\n",
              "      <th>8134</th>\n",
              "      <td>25-29</td>\n",
              "      <td>Man</td>\n",
              "      <td>Turkey</td>\n",
              "      <td>No</td>\n",
              "      <td>NaN</td>\n",
              "      <td>NaN</td>\n",
              "      <td>NaN</td>\n",
              "      <td>DataCamp</td>\n",
              "      <td>NaN</td>\n",
              "      <td>NaN</td>\n",
              "      <td>...</td>\n",
              "      <td>NaN</td>\n",
              "      <td>NaN</td>\n",
              "      <td>Kaggle (notebooks, forums, etc)</td>\n",
              "      <td>NaN</td>\n",
              "      <td>YouTube (Kaggle YouTube, Cloud AI Adventures, ...</td>\n",
              "      <td>NaN</td>\n",
              "      <td>NaN</td>\n",
              "      <td>NaN</td>\n",
              "      <td>NaN</td>\n",
              "      <td>NaN</td>\n",
              "    </tr>\n",
              "    <tr>\n",
              "      <th>8135</th>\n",
              "      <td>35-39</td>\n",
              "      <td>Woman</td>\n",
              "      <td>Israel</td>\n",
              "      <td>No</td>\n",
              "      <td>NaN</td>\n",
              "      <td>NaN</td>\n",
              "      <td>Kaggle Learn Courses</td>\n",
              "      <td>NaN</td>\n",
              "      <td>NaN</td>\n",
              "      <td>Udacity</td>\n",
              "      <td>...</td>\n",
              "      <td>NaN</td>\n",
              "      <td>NaN</td>\n",
              "      <td>NaN</td>\n",
              "      <td>NaN</td>\n",
              "      <td>YouTube (Kaggle YouTube, Cloud AI Adventures, ...</td>\n",
              "      <td>NaN</td>\n",
              "      <td>NaN</td>\n",
              "      <td>NaN</td>\n",
              "      <td>NaN</td>\n",
              "      <td>NaN</td>\n",
              "    </tr>\n",
              "  </tbody>\n",
              "</table>\n",
              "<p>8136 rows × 279 columns</p>\n",
              "</div>\n",
              "    <div class=\"colab-df-buttons\">\n",
              "\n",
              "  <div class=\"colab-df-container\">\n",
              "    <button class=\"colab-df-convert\" onclick=\"convertToInteractive('df-320cbaaf-2464-43e0-a9a5-90edb2a6fdf5')\"\n",
              "            title=\"Convert this dataframe to an interactive table.\"\n",
              "            style=\"display:none;\">\n",
              "\n",
              "  <svg xmlns=\"http://www.w3.org/2000/svg\" height=\"24px\" viewBox=\"0 -960 960 960\">\n",
              "    <path d=\"M120-120v-720h720v720H120Zm60-500h600v-160H180v160Zm220 220h160v-160H400v160Zm0 220h160v-160H400v160ZM180-400h160v-160H180v160Zm440 0h160v-160H620v160ZM180-180h160v-160H180v160Zm440 0h160v-160H620v160Z\"/>\n",
              "  </svg>\n",
              "    </button>\n",
              "\n",
              "  <style>\n",
              "    .colab-df-container {\n",
              "      display:flex;\n",
              "      gap: 12px;\n",
              "    }\n",
              "\n",
              "    .colab-df-convert {\n",
              "      background-color: #E8F0FE;\n",
              "      border: none;\n",
              "      border-radius: 50%;\n",
              "      cursor: pointer;\n",
              "      display: none;\n",
              "      fill: #1967D2;\n",
              "      height: 32px;\n",
              "      padding: 0 0 0 0;\n",
              "      width: 32px;\n",
              "    }\n",
              "\n",
              "    .colab-df-convert:hover {\n",
              "      background-color: #E2EBFA;\n",
              "      box-shadow: 0px 1px 2px rgba(60, 64, 67, 0.3), 0px 1px 3px 1px rgba(60, 64, 67, 0.15);\n",
              "      fill: #174EA6;\n",
              "    }\n",
              "\n",
              "    .colab-df-buttons div {\n",
              "      margin-bottom: 4px;\n",
              "    }\n",
              "\n",
              "    [theme=dark] .colab-df-convert {\n",
              "      background-color: #3B4455;\n",
              "      fill: #D2E3FC;\n",
              "    }\n",
              "\n",
              "    [theme=dark] .colab-df-convert:hover {\n",
              "      background-color: #434B5C;\n",
              "      box-shadow: 0px 1px 3px 1px rgba(0, 0, 0, 0.15);\n",
              "      filter: drop-shadow(0px 1px 2px rgba(0, 0, 0, 0.3));\n",
              "      fill: #FFFFFF;\n",
              "    }\n",
              "  </style>\n",
              "\n",
              "    <script>\n",
              "      const buttonEl =\n",
              "        document.querySelector('#df-320cbaaf-2464-43e0-a9a5-90edb2a6fdf5 button.colab-df-convert');\n",
              "      buttonEl.style.display =\n",
              "        google.colab.kernel.accessAllowed ? 'block' : 'none';\n",
              "\n",
              "      async function convertToInteractive(key) {\n",
              "        const element = document.querySelector('#df-320cbaaf-2464-43e0-a9a5-90edb2a6fdf5');\n",
              "        const dataTable =\n",
              "          await google.colab.kernel.invokeFunction('convertToInteractive',\n",
              "                                                    [key], {});\n",
              "        if (!dataTable) return;\n",
              "\n",
              "        const docLinkHtml = 'Like what you see? Visit the ' +\n",
              "          '<a target=\"_blank\" href=https://colab.research.google.com/notebooks/data_table.ipynb>data table notebook</a>'\n",
              "          + ' to learn more about interactive tables.';\n",
              "        element.innerHTML = '';\n",
              "        dataTable['output_type'] = 'display_data';\n",
              "        await google.colab.output.renderOutput(dataTable, element);\n",
              "        const docLink = document.createElement('div');\n",
              "        docLink.innerHTML = docLinkHtml;\n",
              "        element.appendChild(docLink);\n",
              "      }\n",
              "    </script>\n",
              "  </div>\n",
              "\n",
              "\n",
              "    <div id=\"df-434a343c-0ae1-463b-954b-e5919a497fd5\">\n",
              "      <button class=\"colab-df-quickchart\" onclick=\"quickchart('df-434a343c-0ae1-463b-954b-e5919a497fd5')\"\n",
              "                title=\"Suggest charts\"\n",
              "                style=\"display:none;\">\n",
              "\n",
              "<svg xmlns=\"http://www.w3.org/2000/svg\" height=\"24px\"viewBox=\"0 0 24 24\"\n",
              "     width=\"24px\">\n",
              "    <g>\n",
              "        <path d=\"M19 3H5c-1.1 0-2 .9-2 2v14c0 1.1.9 2 2 2h14c1.1 0 2-.9 2-2V5c0-1.1-.9-2-2-2zM9 17H7v-7h2v7zm4 0h-2V7h2v10zm4 0h-2v-4h2v4z\"/>\n",
              "    </g>\n",
              "</svg>\n",
              "      </button>\n",
              "\n",
              "<style>\n",
              "  .colab-df-quickchart {\n",
              "      --bg-color: #E8F0FE;\n",
              "      --fill-color: #1967D2;\n",
              "      --hover-bg-color: #E2EBFA;\n",
              "      --hover-fill-color: #174EA6;\n",
              "      --disabled-fill-color: #AAA;\n",
              "      --disabled-bg-color: #DDD;\n",
              "  }\n",
              "\n",
              "  [theme=dark] .colab-df-quickchart {\n",
              "      --bg-color: #3B4455;\n",
              "      --fill-color: #D2E3FC;\n",
              "      --hover-bg-color: #434B5C;\n",
              "      --hover-fill-color: #FFFFFF;\n",
              "      --disabled-bg-color: #3B4455;\n",
              "      --disabled-fill-color: #666;\n",
              "  }\n",
              "\n",
              "  .colab-df-quickchart {\n",
              "    background-color: var(--bg-color);\n",
              "    border: none;\n",
              "    border-radius: 50%;\n",
              "    cursor: pointer;\n",
              "    display: none;\n",
              "    fill: var(--fill-color);\n",
              "    height: 32px;\n",
              "    padding: 0;\n",
              "    width: 32px;\n",
              "  }\n",
              "\n",
              "  .colab-df-quickchart:hover {\n",
              "    background-color: var(--hover-bg-color);\n",
              "    box-shadow: 0 1px 2px rgba(60, 64, 67, 0.3), 0 1px 3px 1px rgba(60, 64, 67, 0.15);\n",
              "    fill: var(--button-hover-fill-color);\n",
              "  }\n",
              "\n",
              "  .colab-df-quickchart-complete:disabled,\n",
              "  .colab-df-quickchart-complete:disabled:hover {\n",
              "    background-color: var(--disabled-bg-color);\n",
              "    fill: var(--disabled-fill-color);\n",
              "    box-shadow: none;\n",
              "  }\n",
              "\n",
              "  .colab-df-spinner {\n",
              "    border: 2px solid var(--fill-color);\n",
              "    border-color: transparent;\n",
              "    border-bottom-color: var(--fill-color);\n",
              "    animation:\n",
              "      spin 1s steps(1) infinite;\n",
              "  }\n",
              "\n",
              "  @keyframes spin {\n",
              "    0% {\n",
              "      border-color: transparent;\n",
              "      border-bottom-color: var(--fill-color);\n",
              "      border-left-color: var(--fill-color);\n",
              "    }\n",
              "    20% {\n",
              "      border-color: transparent;\n",
              "      border-left-color: var(--fill-color);\n",
              "      border-top-color: var(--fill-color);\n",
              "    }\n",
              "    30% {\n",
              "      border-color: transparent;\n",
              "      border-left-color: var(--fill-color);\n",
              "      border-top-color: var(--fill-color);\n",
              "      border-right-color: var(--fill-color);\n",
              "    }\n",
              "    40% {\n",
              "      border-color: transparent;\n",
              "      border-right-color: var(--fill-color);\n",
              "      border-top-color: var(--fill-color);\n",
              "    }\n",
              "    60% {\n",
              "      border-color: transparent;\n",
              "      border-right-color: var(--fill-color);\n",
              "    }\n",
              "    80% {\n",
              "      border-color: transparent;\n",
              "      border-right-color: var(--fill-color);\n",
              "      border-bottom-color: var(--fill-color);\n",
              "    }\n",
              "    90% {\n",
              "      border-color: transparent;\n",
              "      border-bottom-color: var(--fill-color);\n",
              "    }\n",
              "  }\n",
              "</style>\n",
              "\n",
              "      <script>\n",
              "        async function quickchart(key) {\n",
              "          const quickchartButtonEl =\n",
              "            document.querySelector('#' + key + ' button');\n",
              "          quickchartButtonEl.disabled = true;  // To prevent multiple clicks.\n",
              "          quickchartButtonEl.classList.add('colab-df-spinner');\n",
              "          try {\n",
              "            const charts = await google.colab.kernel.invokeFunction(\n",
              "                'suggestCharts', [key], {});\n",
              "          } catch (error) {\n",
              "            console.error('Error during call to suggestCharts:', error);\n",
              "          }\n",
              "          quickchartButtonEl.classList.remove('colab-df-spinner');\n",
              "          quickchartButtonEl.classList.add('colab-df-quickchart-complete');\n",
              "        }\n",
              "        (() => {\n",
              "          let quickchartButtonEl =\n",
              "            document.querySelector('#df-434a343c-0ae1-463b-954b-e5919a497fd5 button');\n",
              "          quickchartButtonEl.style.display =\n",
              "            google.colab.kernel.accessAllowed ? 'block' : 'none';\n",
              "        })();\n",
              "      </script>\n",
              "    </div>\n",
              "\n",
              "  <div id=\"id_5f709eb7-a931-4be1-8463-84b978e838cb\">\n",
              "    <style>\n",
              "      .colab-df-generate {\n",
              "        background-color: #E8F0FE;\n",
              "        border: none;\n",
              "        border-radius: 50%;\n",
              "        cursor: pointer;\n",
              "        display: none;\n",
              "        fill: #1967D2;\n",
              "        height: 32px;\n",
              "        padding: 0 0 0 0;\n",
              "        width: 32px;\n",
              "      }\n",
              "\n",
              "      .colab-df-generate:hover {\n",
              "        background-color: #E2EBFA;\n",
              "        box-shadow: 0px 1px 2px rgba(60, 64, 67, 0.3), 0px 1px 3px 1px rgba(60, 64, 67, 0.15);\n",
              "        fill: #174EA6;\n",
              "      }\n",
              "\n",
              "      [theme=dark] .colab-df-generate {\n",
              "        background-color: #3B4455;\n",
              "        fill: #D2E3FC;\n",
              "      }\n",
              "\n",
              "      [theme=dark] .colab-df-generate:hover {\n",
              "        background-color: #434B5C;\n",
              "        box-shadow: 0px 1px 3px 1px rgba(0, 0, 0, 0.15);\n",
              "        filter: drop-shadow(0px 1px 2px rgba(0, 0, 0, 0.3));\n",
              "        fill: #FFFFFF;\n",
              "      }\n",
              "    </style>\n",
              "    <button class=\"colab-df-generate\" onclick=\"generateWithVariable('salaries')\"\n",
              "            title=\"Generate code using this dataframe.\"\n",
              "            style=\"display:none;\">\n",
              "\n",
              "  <svg xmlns=\"http://www.w3.org/2000/svg\" height=\"24px\"viewBox=\"0 0 24 24\"\n",
              "       width=\"24px\">\n",
              "    <path d=\"M7,19H8.4L18.45,9,17,7.55,7,17.6ZM5,21V16.75L18.45,3.32a2,2,0,0,1,2.83,0l1.4,1.43a1.91,1.91,0,0,1,.58,1.4,1.91,1.91,0,0,1-.58,1.4L9.25,21ZM18.45,9,17,7.55Zm-12,3A5.31,5.31,0,0,0,4.9,8.1,5.31,5.31,0,0,0,1,6.5,5.31,5.31,0,0,0,4.9,4.9,5.31,5.31,0,0,0,6.5,1,5.31,5.31,0,0,0,8.1,4.9,5.31,5.31,0,0,0,12,6.5,5.46,5.46,0,0,0,6.5,12Z\"/>\n",
              "  </svg>\n",
              "    </button>\n",
              "    <script>\n",
              "      (() => {\n",
              "      const buttonEl =\n",
              "        document.querySelector('#id_5f709eb7-a931-4be1-8463-84b978e838cb button.colab-df-generate');\n",
              "      buttonEl.style.display =\n",
              "        google.colab.kernel.accessAllowed ? 'block' : 'none';\n",
              "\n",
              "      buttonEl.onclick = () => {\n",
              "        google.colab.notebook.generateWithVariable('salaries');\n",
              "      }\n",
              "      })();\n",
              "    </script>\n",
              "  </div>\n",
              "\n",
              "    </div>\n",
              "  </div>\n"
            ],
            "application/vnd.google.colaboratory.intrinsic+json": {
              "type": "dataframe",
              "variable_name": "salaries"
            }
          },
          "metadata": {},
          "execution_count": 154
        }
      ]
    },
    {
      "cell_type": "markdown",
      "id": "kswVTQwc5xeV",
      "metadata": {
        "id": "kswVTQwc5xeV"
      },
      "source": [
        "### **Impute missing values (single column responses)**\n",
        "\n",
        "1. Identify columns with single column responses\n",
        "\n",
        "2. Address missing values in those columns"
      ]
    },
    {
      "cell_type": "code",
      "execution_count": 155,
      "id": "ZgdW5Uzj55Pd",
      "metadata": {
        "id": "ZgdW5Uzj55Pd",
        "colab": {
          "base_uri": "https://localhost:8080/"
        },
        "outputId": "e1096fe9-e5c0-461b-eaf1-0c136d4cbe80"
      },
      "outputs": [
        {
          "output_type": "stream",
          "name": "stdout",
          "text": [
            "Single Column Responses: ['Q2', 'Q3', 'Q4', 'Q5', 'Q8', 'Q9', 'Q11', 'Q16', 'Q22', 'Q23', 'Q24', 'Q25', 'Q26', 'Q27', 'Q29', 'Q30', 'Q32', 'Q43']\n"
          ]
        },
        {
          "output_type": "execute_result",
          "data": {
            "text/plain": [
              "(8136, 279)"
            ]
          },
          "metadata": {},
          "execution_count": 155
        }
      ],
      "source": [
        "def ImputingSingleColMissingValues(df):\n",
        "    \"\"\"\n",
        "    Handles missing values in single-column responses by:\n",
        "    1. Identifying single-column response features (excluding multi-column responses).\n",
        "    2. Filling missing values in:\n",
        "       - Numerical columns → Median value.\n",
        "       - Categorical columns → \"Unknown\".\n",
        "    3. Printing the list of identified single-column response features.\n",
        "    \"\"\"\n",
        "\n",
        "    # Identify all column names without an underscore\n",
        "    single_col_responses = [col for col in df.columns if \"_\" not in col]\n",
        "\n",
        "    print(\"Single Column Responses:\", single_col_responses)\n",
        "\n",
        "    # Fill missing values for numerical columns in single-column responses\n",
        "    for col in single_col_responses:\n",
        "        if df[col].dtype in [\"int64\", \"float64\"] and df[col].isnull().sum() > 0:\n",
        "            df[col].fillna(df[col].median(), inplace=True)\n",
        "\n",
        "    # Fill missing values for categorical columns in single-column responses\n",
        "    for col in single_col_responses:\n",
        "        if df[col].dtype == \"object\" and df[col].isnull().sum() > 0:\n",
        "            df[col].fillna(\"Unknown\", inplace=True)\n",
        "\n",
        "    return df\n",
        "\n",
        "salaries = ImputingSingleColMissingValues(salaries)\n",
        "salaries.shape"
      ]
    },
    {
      "cell_type": "code",
      "execution_count": 156,
      "id": "c3e78195",
      "metadata": {
        "id": "c3e78195"
      },
      "outputs": [],
      "source": [
        "# missing_values_summary = salaries[single_col_responses].isnull().sum()\n",
        "\n",
        "# # Check if all values are now non-null\n",
        "# all_imputed = missing_values_summary.sum() == 0\n",
        "\n",
        "# # Print results\n",
        "# print(\"Missing Values After Imputation:\")\n",
        "# print(missing_values_summary)"
      ]
    },
    {
      "cell_type": "markdown",
      "id": "_p3uIiOS-nV4",
      "metadata": {
        "id": "_p3uIiOS-nV4"
      },
      "source": [
        "### **Encode categorical features (sinlge column responses)**"
      ]
    },
    {
      "cell_type": "code",
      "execution_count": 157,
      "id": "njKbxR1oRdJl",
      "metadata": {
        "id": "njKbxR1oRdJl",
        "colab": {
          "base_uri": "https://localhost:8080/"
        },
        "outputId": "e0b92c50-3679-4d2b-b3dd-c535332be5c8"
      },
      "outputs": [
        {
          "output_type": "stream",
          "name": "stdout",
          "text": [
            "Ordinal Encoded Columns: ['Q8', 'Q11', 'Q16', 'Q25', 'Q26', 'Q27', 'Q30', 'Q29']\n",
            "One-Hot Encoded Columns: ['Q2', 'Q3', 'Q4', 'Q5', 'Q9', 'Q22', 'Q23', 'Q24', 'Q32', 'Q43']\n"
          ]
        }
      ],
      "source": [
        "# Encode categorical features in the single column responses\n",
        "\n",
        "def EncodeCategoricalFeatures(df):\n",
        "    \"\"\"\n",
        "    Encodes categorical single-response columns:\n",
        "    1. Applies Ordinal Encoding to detected ordinal categorical features.\n",
        "    2. Converts categorical columns to string type to prevent encoding errors.\n",
        "    3. Applies Label Encoding to nominal categorical features.\n",
        "    4. Prints the columns that were encoded.\n",
        "    \"\"\"\n",
        "\n",
        "    # Identify categorical columns without underscores (single-response categorical features)\n",
        "    categorical_cols = [col for col in df.columns if \"_\" not in col]\n",
        "\n",
        "    # Ensure all categorical values are converted to strings to prevent mixed types\n",
        "    df[categorical_cols] = df[categorical_cols].astype(str)\n",
        "\n",
        "    # Custom mapping for Q29 into 15 ordinal bins\n",
        "    q29_bins = {\n",
        "        \"$0-999\": 0,\n",
        "        \"1,000-1,999\": 1,\n",
        "        \"2,000-2,999\": 2,\n",
        "        \"3,000-3,999\": 3,\n",
        "        \"4,000-4,999\": 4,\n",
        "        \"5,000-7,499\": 5,\n",
        "        \"7,500-9,999\": 6,\n",
        "        \"10,000-14,999\": 7,\n",
        "        \"15,000-19,999\": 8,\n",
        "        \"20,000-24,999\": 9,\n",
        "        \"25,000-29,999\": 10,\n",
        "        \"30,000-39,999\": 11,\n",
        "        \"40,000-49,999\": 11,\n",
        "        \"50,000-59,999\": 11,\n",
        "        \"60,000-69,999\": 11,\n",
        "        \"70,000-79,999\": 11,\n",
        "        \"80,000-89,999\": 11,\n",
        "        \"90,000-99,999\": 11,\n",
        "        \"100,000-124,999\": 12,\n",
        "        \"125,000-149,999\": 12,\n",
        "        \"150,000-199,999\": 12,\n",
        "        \"200,000-249,999\": 13,\n",
        "        \"250,000-299,999\": 13,\n",
        "        \"300,000-499,999\": 13,\n",
        "        \"$500,000-999,999\": 13,\n",
        "        \">$1,000,000\": 14,\n",
        "    }\n",
        "\n",
        "    # Clean and encode Q29 into Q29_Encoded\n",
        "    if \"Q29\" in df.columns:\n",
        "        df[\"Q29_Encoded\"] = df[\"Q29\"].map(q29_bins)\n",
        "        df[\"Q29_Encoded\"] = df[\"Q29_Encoded\"].astype(int)\n",
        "\n",
        "    # Dictionary to store detected ordinal categorical columns with predefined rankings\n",
        "    ordinal_mappings = {\n",
        "        \"Q8\": [\n",
        "            \"No formal education past high school\",\n",
        "            \"Some college/university study without earning a bachelor’s degree\",\n",
        "            \"Bachelor’s degree\",\n",
        "            \"Master’s degree\",\n",
        "            \"Doctoral degree\",\n",
        "            \"Professional doctorate\",\n",
        "        ],\n",
        "        \"Q11\": [\n",
        "            \"I have never written code\",\n",
        "            \"< 1 years\",\n",
        "            \"1-3 years\",\n",
        "            \"3-5 years\",\n",
        "            \"5-10 years\",\n",
        "            \"10-20 years\",\n",
        "            \"20+ years\",\n",
        "        ],\n",
        "        \"Q16\": [\n",
        "            \"I do not use machine learning methods\",\n",
        "            \"Under 1 year\",\n",
        "            \"1-2 years\",\n",
        "            \"2-3 years\",\n",
        "            \"3-4 years\",\n",
        "            \"4-5 years\",\n",
        "            \"5-10 years\",\n",
        "            \"10-20 years\",\n",
        "            \"20 or more years\",\n",
        "        ],\n",
        "        \"Q25\": [\n",
        "            \"0-49 employees\",\n",
        "            \"50-249 employees\",\n",
        "            \"250-999 employees\",\n",
        "            \"1000-9,999 employees\",\n",
        "            \"10,000 or more employees\",\n",
        "        ],\n",
        "        \"Q26\": [\n",
        "            \"0\",\n",
        "            \"45659\", # Originally 1-2,\n",
        "            \"45720\", # 3-4,\n",
        "            \"45786\", # 5-9,\n",
        "            \"45944\", # 10-14\n",
        "            \"15-19\",\n",
        "            \"20+\",\n",
        "        ],\n",
        "        \"Q27\": [\n",
        "            \"No (we do not use ML methods)\",\n",
        "            \"We are exploring ML methods (and may one day put a model into production)\",\n",
        "            \"We use ML methods for generating insights (but do not put working models into production)\",\n",
        "            \"We recently started using ML methods (i.e., models in production for less than 2 years)\",\n",
        "            \"We have well established ML methods (i.e., models in production for more than 2 years)\",\n",
        "        ],\n",
        "        \"Q30\": [\n",
        "            \"$0 ($USD)\",\n",
        "            \"$1-$99\",\n",
        "            \"$100-$999\",\n",
        "            \"$1000-$9,999\",\n",
        "            \"$10,000-$99,999\",\n",
        "            \"$100,000 or more ($USD)\",\n",
        "        ],\n",
        "    }\n",
        "\n",
        "    # Apply ordinal encoding to the detected ordinal columns\n",
        "    for col, categories in ordinal_mappings.items():\n",
        "        if col in df.columns:\n",
        "            df[col] = df[col].astype(pd.CategoricalDtype(categories=categories, ordered=True))\n",
        "            df[col] = df[col].cat.codes  # Convert to numeric encoding\n",
        "\n",
        "    # Handle Q4 (Country) - Keep only the top N most frequent countries, group others as \"Other\"\n",
        "    if \"Q4\" in df.columns:\n",
        "        top_countries = df[\"Q4\"].value_counts().nlargest(5).index.tolist()\n",
        "        df[\"Q4\"] = df[\"Q4\"].apply(lambda x: x if x in top_countries else \"Other\")\n",
        "\n",
        "    # Identify nominal categorical columns (excluding ordinal ones and Q29)\n",
        "    nominal_columns = [\n",
        "    col for col in categorical_cols\n",
        "    if col not in ordinal_mappings and col != \"Q29\" and col in df.columns]\n",
        "\n",
        "    print(\"Ordinal Encoded Columns:\", list(ordinal_mappings.keys()) + [\"Q29\"])\n",
        "    print(\"One-Hot Encoded Columns:\", nominal_columns)\n",
        "\n",
        "    # Apply One-Hot Encoding to nominal categorical variables\n",
        "    df = pd.get_dummies(df, columns=nominal_columns, drop_first=True)  # Drop first category to avoid multicollinearity\n",
        "\n",
        "    # Convert any boolean columns (from get_dummies) to integers (0/1)\n",
        "    bool_cols = df.select_dtypes(include='bool').columns\n",
        "    df[bool_cols] = df[bool_cols].astype(int)\n",
        "\n",
        "    return df\n",
        "\n",
        "salaries = EncodeCategoricalFeatures(salaries)"
      ]
    },
    {
      "cell_type": "markdown",
      "id": "02aiBHNLCgRr",
      "metadata": {
        "id": "02aiBHNLCgRr"
      },
      "source": [
        "### **Handling categorical features (multi column responses)**"
      ]
    },
    {
      "cell_type": "code",
      "execution_count": 158,
      "id": "eWODUK9iCzaR",
      "metadata": {
        "id": "eWODUK9iCzaR",
        "colab": {
          "base_uri": "https://localhost:8080/"
        },
        "outputId": "561dd5cc-3839-408c-f3e1-fe1eed099603"
      },
      "outputs": [
        {
          "output_type": "stream",
          "name": "stdout",
          "text": [
            "Multi-Response Columns: ['Q6_1', 'Q6_2', 'Q6_3', 'Q6_4', 'Q6_5', 'Q6_6', 'Q6_7', 'Q6_8', 'Q6_9', 'Q6_10', 'Q6_12', 'Q7_1', 'Q7_2', 'Q7_3', 'Q7_4', 'Q7_5', 'Q7_6', 'Q7_7', 'Q10_1', 'Q10_2', 'Q10_3', 'Q12_1', 'Q12_2', 'Q12_3', 'Q12_4', 'Q12_5', 'Q12_6', 'Q12_7', 'Q12_8', 'Q12_9', 'Q12_10', 'Q12_11', 'Q12_12', 'Q12_13', 'Q12_15', 'Q13_1', 'Q13_2', 'Q13_3', 'Q13_4', 'Q13_5', 'Q13_6', 'Q13_7', 'Q13_8', 'Q13_9', 'Q13_10', 'Q13_11', 'Q13_12', 'Q13_14', 'Q14_1', 'Q14_2', 'Q14_3', 'Q14_4', 'Q14_5', 'Q14_6', 'Q14_7', 'Q14_8', 'Q14_9', 'Q14_10', 'Q14_11', 'Q14_12', 'Q14_13', 'Q14_14', 'Q14_16', 'Q15_1', 'Q15_2', 'Q15_3', 'Q15_4', 'Q15_5', 'Q15_6', 'Q15_7', 'Q15_8', 'Q15_9', 'Q15_10', 'Q15_11', 'Q15_12', 'Q15_13', 'Q15_15', 'Q17_1', 'Q17_2', 'Q17_3', 'Q17_4', 'Q17_5', 'Q17_6', 'Q17_7', 'Q17_8', 'Q17_9', 'Q17_10', 'Q17_11', 'Q17_12', 'Q17_13', 'Q17_15', 'Q18_1', 'Q18_2', 'Q18_3', 'Q18_4', 'Q18_5', 'Q18_6', 'Q18_7', 'Q18_8', 'Q18_9', 'Q18_10', 'Q18_11', 'Q18_12', 'Q18_14', 'Q19_1', 'Q19_2', 'Q19_3', 'Q19_4', 'Q19_5', 'Q19_6', 'Q19_8', 'Q20_1', 'Q20_2', 'Q20_3', 'Q20_4', 'Q20_6', 'Q21_1', 'Q21_2', 'Q21_3', 'Q21_4', 'Q21_5', 'Q21_6', 'Q21_7', 'Q21_8', 'Q21_9', 'Q21_10', 'Q28_1', 'Q28_2', 'Q28_3', 'Q28_4', 'Q28_5', 'Q28_6', 'Q28_7', 'Q28_8', 'Q31_1', 'Q31_2', 'Q31_3', 'Q31_4', 'Q31_5', 'Q31_6', 'Q31_7', 'Q31_8', 'Q31_9', 'Q31_10', 'Q31_12', 'Q33_1', 'Q33_2', 'Q33_3', 'Q33_4', 'Q33_5', 'Q34_1', 'Q34_2', 'Q34_3', 'Q34_4', 'Q34_5', 'Q34_6', 'Q34_7', 'Q34_8', 'Q35_1', 'Q35_2', 'Q35_3', 'Q35_4', 'Q35_5', 'Q35_6', 'Q35_7', 'Q35_8', 'Q35_9', 'Q35_10', 'Q35_11', 'Q35_12', 'Q35_13', 'Q35_14', 'Q35_16', 'Q36_1', 'Q36_2', 'Q36_3', 'Q36_4', 'Q36_5', 'Q36_6', 'Q36_7', 'Q36_8', 'Q36_9', 'Q36_10', 'Q36_11', 'Q36_12', 'Q36_13', 'Q36_15', 'Q37_1', 'Q37_2', 'Q37_3', 'Q37_4', 'Q37_5', 'Q37_6', 'Q37_7', 'Q37_8', 'Q37_9', 'Q37_10', 'Q37_11', 'Q37_12', 'Q37_13', 'Q38_1', 'Q38_2', 'Q38_3', 'Q38_4', 'Q38_5', 'Q38_6', 'Q38_7', 'Q38_8', 'Q39_1', 'Q39_2', 'Q39_3', 'Q39_4', 'Q39_5', 'Q39_6', 'Q39_7', 'Q39_8', 'Q39_9', 'Q39_10', 'Q39_12', 'Q40_1', 'Q40_2', 'Q40_3', 'Q40_4', 'Q40_5', 'Q40_6', 'Q40_7', 'Q40_8', 'Q40_9', 'Q40_10', 'Q40_11', 'Q40_12', 'Q40_13', 'Q40_14', 'Q40_15', 'Q41_1', 'Q41_2', 'Q41_3', 'Q41_4', 'Q41_5', 'Q41_6', 'Q41_7', 'Q41_9', 'Q42_1', 'Q42_2', 'Q42_3', 'Q42_4', 'Q42_5', 'Q42_6', 'Q42_7', 'Q42_9', 'Q44_1', 'Q44_2', 'Q44_3', 'Q44_4', 'Q44_5', 'Q44_6', 'Q44_7', 'Q44_8', 'Q44_9', 'Q44_10', 'Q44_12']\n"
          ]
        }
      ],
      "source": [
        "def HandleMultiColumnResponses(df):\n",
        "    \"\"\"\n",
        "    Processes multi-response categorical questions:\n",
        "    - Dynamically identifies raw multi-response columns (those with underscores).\n",
        "    - Excludes ordinal encoded and one-hot encoded columns.\n",
        "    - Converts NaNs to 0 (not selected) and values to 1 (selected).\n",
        "    \"\"\"\n",
        "\n",
        "    # Define the base columns that were one-hot encoded\n",
        "    one_hot_base_cols = ['Q2', 'Q3', 'Q4', 'Q5', 'Q9', 'Q22', 'Q23', 'Q24', 'Q32', 'Q43']\n",
        "\n",
        "    # Define ordinal encoded columns (Q29 is ordinal-encoded to Q29_Encoded)\n",
        "    ordinal_encoded_cols = ['Q8', 'Q11', 'Q16', 'Q25', 'Q26', 'Q27', 'Q30', 'Q29']\n",
        "\n",
        "    # Prepare prefixes to filter out\n",
        "    one_hot_prefixes = [col + \"_\" for col in one_hot_base_cols]\n",
        "    ordinal_prefixes = [col + \"_\" for col in ordinal_encoded_cols]\n",
        "\n",
        "    # Dynamically find all multi-response columns\n",
        "    multi_response_cols = [\n",
        "        col for col in df.columns\n",
        "        if (\n",
        "            \"_\" in col and\n",
        "            col != \"Q29_Encoded\" and\n",
        "            not any(col.startswith(prefix) for prefix in one_hot_prefixes) and\n",
        "            not any(col.startswith(prefix) for prefix in ordinal_prefixes)\n",
        "        )\n",
        "    ]\n",
        "\n",
        "    print(\"Multi-Response Columns:\", multi_response_cols)\n",
        "\n",
        "    # Impute: NaN → 0 (not selected), value → 1 (selected)\n",
        "    df[multi_response_cols] = df[multi_response_cols].notna().astype(int)\n",
        "\n",
        "    return df\n",
        "\n",
        "salaries = HandleMultiColumnResponses(salaries)"
      ]
    },
    {
      "cell_type": "markdown",
      "id": "71PPXsVpEdby",
      "metadata": {
        "id": "71PPXsVpEdby"
      },
      "source": [
        "### **Drop the target variable(s) and get the target variable**"
      ]
    },
    {
      "cell_type": "code",
      "execution_count": 159,
      "id": "J8Xdq2I0aIOK",
      "metadata": {
        "id": "J8Xdq2I0aIOK"
      },
      "outputs": [],
      "source": [
        "# Make sure there are no missing values remaining in the dataset\n",
        "assert salaries.isnull().values.sum() == 0, \\\n",
        "    \"There are still {} missing values remaining in salaries!\".format(\n",
        "        salaries.isnull().values.sum()\n",
        "    )"
      ]
    },
    {
      "cell_type": "code",
      "execution_count": 160,
      "id": "01UFnhWGE67u",
      "metadata": {
        "id": "01UFnhWGE67u"
      },
      "outputs": [],
      "source": [
        "# Extract the target variable (Q29_Encoded)\n",
        "target = salaries[\"Q29_Encoded\"]\n",
        "\n",
        "# Drop target-related columns (Q29, Q29_Encoded, Q29_buckets) from the feature set\n",
        "salaries = salaries.drop(columns=[\"Q29\", \"Q29_Encoded\"], errors=\"ignore\")\n",
        "\n",
        "# Make sure the target variables are not included in the feature set\n",
        "for col in salaries.columns:\n",
        "    assert 'Q29' not in col, \\\n",
        "        \"Target variable ({}) is still in the dataset\".format(col)"
      ]
    },
    {
      "cell_type": "markdown",
      "id": "c1uNYg4xGhta",
      "metadata": {
        "id": "c1uNYg4xGhta"
      },
      "source": [
        "# Question 2: Exploratory Feature Analysis\n",
        "\n",
        "- From Question 2 - Question 4, you should **NOT** peek at the test labels in any form!\n",
        "- Assume that you do not know the target values (Q29_Encoded) on the test set"
      ]
    },
    {
      "cell_type": "markdown",
      "id": "yCkFKoni0CPH",
      "metadata": {
        "id": "yCkFKoni0CPH"
      },
      "source": [
        "## Split data into training and test sets"
      ]
    },
    {
      "cell_type": "code",
      "execution_count": 161,
      "id": "JZhQ_IffzAD_",
      "metadata": {
        "id": "JZhQ_IffzAD_",
        "colab": {
          "base_uri": "https://localhost:8080/"
        },
        "outputId": "f79d2476-03d9-469b-e98c-6e27b1e43ac7"
      },
      "outputs": [
        {
          "output_type": "stream",
          "name": "stdout",
          "text": [
            "Train set size: (6508, 342), Test set size: (1628, 342)\n",
            "Target train size: (6508,), Target test size: (1628,)\n"
          ]
        }
      ],
      "source": [
        "# Split data into training and test sets (80% train, 20% test)\n",
        "train_df, test_df, y_train, y_test = train_test_split(salaries, target, test_size=0.2, random_state=42)\n",
        "\n",
        "# Print dataset sizes for verification\n",
        "print(f\"Train set size: {train_df.shape}, Test set size: {test_df.shape}\")\n",
        "print(f\"Target train size: {y_train.shape}, Target test size: {y_test.shape}\")"
      ]
    },
    {
      "cell_type": "markdown",
      "id": "L31jOKn0OVbH",
      "metadata": {
        "id": "L31jOKn0OVbH"
      },
      "source": [
        "## **Feature Engineering/Generation**\n",
        "\n",
        "- Create new feature(s) using existing features!"
      ]
    },
    {
      "cell_type": "code",
      "execution_count": 162,
      "id": "vwMQ55kQPuPX",
      "metadata": {
        "id": "vwMQ55kQPuPX"
      },
      "outputs": [],
      "source": [
        "# Create new features (feature generation)\n",
        "\n",
        "# Define advanced ML algorithms based on Q18 options\n",
        "advanced_q18_cols = [\n",
        "    \"Q18_6\",  # Dense Neural Networks\n",
        "    \"Q18_7\",  # Convolutional Neural Networks\n",
        "    \"Q18_8\",  # GANs\n",
        "    \"Q18_9\",  # RNNs\n",
        "    \"Q18_10\", # Transformers\n",
        "    \"Q18_11\", # Autoencoders\n",
        "    \"Q18_12\", # Graph Neural Networks\n",
        "]\n",
        "\n",
        "# Create the feature based on whether any advanced method is selected\n",
        "train_df[\"uses_advanced_ml\"] = train_df[advanced_q18_cols].any(axis=1).astype(int)"
      ]
    },
    {
      "cell_type": "code",
      "source": [
        "# # Save the training dataframe after feature engineering\n",
        "# train_df.to_csv(\"train_df_engineered.csv\", index=False)"
      ],
      "metadata": {
        "id": "PbIoowGYIJSZ"
      },
      "id": "PbIoowGYIJSZ",
      "execution_count": 163,
      "outputs": []
    },
    {
      "cell_type": "markdown",
      "id": "fC6DORiwL5b_",
      "metadata": {
        "id": "fC6DORiwL5b_"
      },
      "source": [
        "## **Feature Selection**\n",
        "\n",
        "- Select the features based on the criteria of your choice"
      ]
    },
    {
      "cell_type": "code",
      "execution_count": 164,
      "id": "vj2WL5kUbeHJ",
      "metadata": {
        "id": "vj2WL5kUbeHJ",
        "colab": {
          "base_uri": "https://localhost:8080/"
        },
        "outputId": "fe12a801-11f4-4184-fd80-f12269c6b50a"
      },
      "outputs": [
        {
          "output_type": "stream",
          "name": "stdout",
          "text": [
            "\n",
            "Feature selection completed! Selected features based on Mutual Information:\n",
            "['Q4_United States of America', 'Q11', 'Q16', 'Q4_India', 'Q30', 'Q27', 'Q26', 'Q28_3', 'Q34_3', 'Q25']\n"
          ]
        }
      ],
      "source": [
        "from sklearn.feature_selection import mutual_info_classif\n",
        "\n",
        "# Compute mutual information scores\n",
        "mi_scores = mutual_info_classif(train_df, y_train, discrete_features=True)\n",
        "mi_scores = pd.Series(mi_scores, index=train_df.columns).sort_values(ascending=False)\n",
        "\n",
        "# Select the top 10 features based on MI scores\n",
        "selected_features = mi_scores.index[:10].tolist()\n",
        "\n",
        "print(\"\\nFeature selection completed! Selected features based on Mutual Information:\")\n",
        "print(selected_features)"
      ]
    },
    {
      "cell_type": "code",
      "execution_count": 165,
      "id": "lw92jYTKItv6",
      "metadata": {
        "id": "lw92jYTKItv6"
      },
      "outputs": [],
      "source": [
        "train_df_selected = train_df[selected_features]"
      ]
    },
    {
      "cell_type": "markdown",
      "id": "mCHvO21oMCjj",
      "metadata": {
        "id": "mCHvO21oMCjj"
      },
      "source": [
        "## **Visualization**\n",
        "\n",
        "- Make visualization to better understand your data"
      ]
    },
    {
      "cell_type": "code",
      "execution_count": 166,
      "id": "e1cf3d0a",
      "metadata": {
        "colab": {
          "base_uri": "https://localhost:8080/",
          "height": 564
        },
        "id": "e1cf3d0a",
        "outputId": "7d7eb95d-1e11-47b8-b24e-482fe3645446"
      },
      "outputs": [
        {
          "output_type": "display_data",
          "data": {
            "text/plain": [
              "<Figure size 1000x600 with 1 Axes>"
            ],
            "image/png": "[encoded data removed]"
          },
          "metadata": {}
        }
      ],
      "source": [
        "# Plot Mutual Information Scores\n",
        "plt.figure(figsize=(10, 6))\n",
        "mi_scores[:10].plot(kind='barh', color='skyblue')\n",
        "plt.xlabel(\"Mutual Information Score\")\n",
        "plt.ylabel(\"Feature\")\n",
        "plt.title(\"Feature Importance (Mutual Information)\")\n",
        "plt.gca().invert_yaxis()  # Flip order for better visualization\n",
        "plt.show()"
      ]
    },
    {
      "cell_type": "markdown",
      "id": "RWu57xog0qGh",
      "metadata": {
        "id": "RWu57xog0qGh"
      },
      "source": [
        "## **Apply the same feature engineering/selection to test data**"
      ]
    },
    {
      "cell_type": "code",
      "execution_count": 167,
      "id": "B9LzwwjUxqyb",
      "metadata": {
        "id": "B9LzwwjUxqyb"
      },
      "outputs": [],
      "source": [
        "# Create \"uses_advanced_ml\" in the test set just like training set\n",
        "test_df[\"uses_advanced_ml\"] = test_df[advanced_q18_cols].any(axis=1).astype(int)\n",
        "\n",
        "# Keep only the previously selected features\n",
        "test_df_selected = test_df[selected_features]"
      ]
    },
    {
      "cell_type": "code",
      "execution_count": 168,
      "id": "jie6Z6eQ9UBS",
      "metadata": {
        "id": "jie6Z6eQ9UBS"
      },
      "outputs": [],
      "source": [
        "X_train = train_df_selected.values\n",
        "X_test = test_df_selected.values\n",
        "y_train = y_train.values\n",
        "y_test = y_test.values"
      ]
    },
    {
      "cell_type": "markdown",
      "id": "ZiT8l3PX9m5F",
      "metadata": {
        "id": "ZiT8l3PX9m5F"
      },
      "source": [
        "# Question 3: Model Implementation"
      ]
    },
    {
      "cell_type": "markdown",
      "id": "7oBXbSYFL3Cs",
      "metadata": {
        "id": "7oBXbSYFL3Cs"
      },
      "source": [
        "## Implement Ordinal Logistic Regression Model"
      ]
    },
    {
      "cell_type": "code",
      "execution_count": 169,
      "id": "yay4BS-j-Kzg",
      "metadata": {
        "id": "yay4BS-j-Kzg"
      },
      "outputs": [],
      "source": [
        "class OrdinalLogisticRegression():\n",
        "    \"\"\"\n",
        "    Implements ordinal logistic regression using k-1 binary logistic classifiers.\n",
        "    \"\"\"\n",
        "\n",
        "    def __init__(self, max_iter=100, C=1.0):\n",
        "        \"\"\"\n",
        "        Initialize the Ordinal Logistic Regression model.\n",
        "\n",
        "        Parameters:\n",
        "        - max_iter: Maximum number of iterations for logistic regression training.\n",
        "        - C: Regularization strength (higher C reduces regularization, lower C increases regularization).\n",
        "        \"\"\"\n",
        "        self.C = C  # Regularization parameter for bias-variance tradeoff\n",
        "        self.max_iter = max_iter\n",
        "        self.classes_ = []\n",
        "        self.models_ = []\n",
        "\n",
        "    def fit(self, X, y):\n",
        "        \"\"\"\n",
        "        Fit k-1 binary logistic regression models for ordinal classification.\n",
        "\n",
        "        Parameters:\n",
        "        - X: Feature matrix.\n",
        "        - y: Target vector (ordinal labels).\n",
        "        \"\"\"\n",
        "        self.classes_ = sorted(np.unique(y))  # Get unique class labels in order\n",
        "        self.models_ = []\n",
        "\n",
        "        # Train k-1 binary logistic regression models\n",
        "        for i, c in enumerate(self.classes_[:-1]):  # We need k-1 classifiers\n",
        "            y_i = (y > c).astype(int)  # Convert ordinal labels to binary: 0 if y ≤ c, 1 otherwise\n",
        "            model = LogisticRegression(max_iter=self.max_iter, C=self.C)  # Base binary classifier\n",
        "            model.fit(X, y_i)  # Train model on transformed labels\n",
        "            self.models_.append(model)\n",
        "\n",
        "        return self\n",
        "\n",
        "    def predict_proba(self, X):\n",
        "        \"\"\"\n",
        "        Predict probability estimates for each ordinal class.\n",
        "\n",
        "        Parameters:\n",
        "        - X: Feature matrix.\n",
        "\n",
        "        Returns:\n",
        "        - proba: Probability distribution over ordinal classes.\n",
        "        \"\"\"\n",
        "        assert len(self.models_) > 0, \"Model is not fitted yet. Run .fit() first.\"\n",
        "\n",
        "        # Store probabilities for k-1 binary classifiers\n",
        "        binary_probabilities = np.empty((X.shape[0], len(self.models_), 2), dtype=float)\n",
        "\n",
        "        # Get probability predictions for each binary classifier\n",
        "        for i, model in enumerate(self.models_):\n",
        "            binary_probabilities[:, i] = model.predict_proba(X)  # Get probability estimates\n",
        "\n",
        "        # Compute full ordinal probabilities\n",
        "        k = len(self.classes_)\n",
        "        proba = np.empty((X.shape[0], k), dtype=float)  # Stores final class probabilities\n",
        "\n",
        "        # Compute class probabilities from binary models\n",
        "        proba[:, 0] = binary_probabilities[:, 0, 0]  # Probability of first class\n",
        "\n",
        "        for i in range(1, k-1):\n",
        "            proba[:, i] = binary_probabilities[:, i, 0] - binary_probabilities[:, i-1, 0]\n",
        "\n",
        "        proba[:, -1] = binary_probabilities[:, k-2, 1]  # Probability of last class\n",
        "\n",
        "        # Ensure probabilities sum to 1\n",
        "        assert np.allclose(proba.sum(axis=1), 1), \"Probability computation error!\"\n",
        "\n",
        "        return proba\n",
        "\n",
        "    def predict(self, X):\n",
        "        \"\"\"\n",
        "        Predict the most likely class for each instance.\n",
        "\n",
        "        Parameters:\n",
        "        - X: Feature matrix.\n",
        "\n",
        "        Returns:\n",
        "        - Predicted ordinal class labels.\n",
        "        \"\"\"\n",
        "        proba = self.predict_proba(X)\n",
        "        return np.argmax(proba, axis=1)  # Return the class with the highest probability\n",
        "\n",
        "    def get_params(self, deep=True):\n",
        "        \"\"\"\n",
        "        Retrieve hyperparameters for tuning.\n",
        "\n",
        "        Returns:\n",
        "        - Dictionary of hyperparameters.\n",
        "        \"\"\"\n",
        "        return {'max_iter': self.max_iter, 'C': self.C}  # Added regularization parameter C\n",
        "\n",
        "    def set_params(self, **parameters):\n",
        "        \"\"\"\n",
        "        Set hyperparameters dynamically.\n",
        "\n",
        "        Parameters:\n",
        "        - parameters: Dictionary of hyperparameter values.\n",
        "        \"\"\"\n",
        "        for parameter, value in parameters.items():\n",
        "            setattr(self, parameter, value)\n",
        "        return self\n"
      ]
    },
    {
      "cell_type": "markdown",
      "id": "rfTNn0Z6LuZK",
      "metadata": {
        "id": "rfTNn0Z6LuZK"
      },
      "source": [
        "## Run k-fold cross validation\n",
        "\n",
        "- Report the average/variance of accuracies across folds"
      ]
    },
    {
      "cell_type": "code",
      "execution_count": 170,
      "id": "EMlrveWFH7kx",
      "metadata": {
        "id": "EMlrveWFH7kx",
        "colab": {
          "base_uri": "https://localhost:8080/"
        },
        "outputId": "8dca5286-23c6-4956-e6f3-2d352bf34d6e"
      },
      "outputs": [
        {
          "output_type": "stream",
          "name": "stdout",
          "text": [
            "Average accuracy      : 0.3905967151128441\n",
            "Variance of accuracy  : 0.00013664615980518626\n"
          ]
        }
      ],
      "source": [
        "from sklearn.model_selection import KFold\n",
        "from sklearn.metrics import accuracy_score\n",
        "\n",
        "# Number of folds for cross-validation\n",
        "k_folds = 10\n",
        "\n",
        "# Initialize K-Fold cross-validation\n",
        "kf = KFold(n_splits=k_folds, shuffle=True, random_state=42)\n",
        "\n",
        "# Initialize list to store accuracies\n",
        "accuracies = []\n",
        "\n",
        "# Perform 10-fold cross-validation\n",
        "for train_index, val_index in kf.split(train_df_selected):\n",
        "    X_train, X_val = train_df_selected.iloc[train_index], train_df_selected.iloc[val_index]\n",
        "    y_train_fold, y_val_fold = y_train[train_index], y_train[val_index]\n",
        "\n",
        "    # Initialize and train the ordinal logistic regression model\n",
        "    model = OrdinalLogisticRegression(max_iter=200, C=1.0)  # Using default hyperparameters\n",
        "    model.fit(X_train, y_train_fold)\n",
        "\n",
        "    # Make predictions on validation set\n",
        "    y_pred = model.predict(X_val)\n",
        "\n",
        "    # Compute accuracy\n",
        "    acc = accuracy_score(y_val_fold, y_pred)\n",
        "    accuracies.append(acc)\n",
        "\n",
        "# Print results\n",
        "print(\"Average accuracy      :\", np.mean(accuracies))\n",
        "print(\"Variance of accuracy  :\", np.var(accuracies))"
      ]
    },
    {
      "cell_type": "markdown",
      "id": "sxu0cqPWMEIZ",
      "metadata": {
        "id": "sxu0cqPWMEIZ"
      },
      "source": [
        "## Bias-variance trade-off\n",
        "\n",
        "[bias_variance_decomp.py](https://github.com/rasbt/mlxtend/blob/master/mlxtend/evaluate/bias_variance_decomp.py)\n",
        "\n",
        "Below is a function you can use to compute the bias and variance of your ordinal logistic regression model. Using this function, analyze the ordinal logistic regression model performance based on bias-variance trade-off."
      ]
    },
    {
      "cell_type": "code",
      "execution_count": 171,
      "id": "kTas4z9mLpjI",
      "metadata": {
        "id": "kTas4z9mLpjI"
      },
      "outputs": [],
      "source": [
        "### NOTE: You don't need to change anything in this code block! ###\n",
        "\n",
        "def _draw_bootstrap_sample(rng, X, y):\n",
        "    sample_indices = np.arange(X.shape[0])\n",
        "    bootstrap_indices = rng.choice(\n",
        "        sample_indices, size=sample_indices.shape[0], replace=True\n",
        "    )\n",
        "    return X[bootstrap_indices], y[bootstrap_indices]\n",
        "\n",
        "def bias_variance_decomp(\n",
        "    estimator,\n",
        "    X_train,\n",
        "    y_train,\n",
        "    X_test,\n",
        "    y_test,\n",
        "    num_rounds=10,\n",
        "    random_seed=0\n",
        "):\n",
        "    \"\"\"\n",
        "    estimator : object\n",
        "        A classifier or regressor object or class implementing both a\n",
        "        `fit` and `predict` method similar to the scikit-learn API.\n",
        "\n",
        "    X_train : array-like, shape=(num_examples, num_features)\n",
        "        A training dataset for drawing the bootstrap samples to carry\n",
        "        out the bias-variance decomposition.\n",
        "\n",
        "    y_train : array-like, shape=(num_examples)\n",
        "        Targets (class labels, continuous values in case of regression)\n",
        "        associated with the `X_train` examples.\n",
        "\n",
        "    X_test : array-like, shape=(num_examples, num_features)\n",
        "        The test dataset for computing the average loss, bias,\n",
        "        and variance.\n",
        "\n",
        "    y_test : array-like, shape=(num_examples)\n",
        "        Targets (class labels, continuous values in case of regression)\n",
        "        associated with the `X_test` examples.\n",
        "\n",
        "    num_rounds : int (default=10)\n",
        "        Number of bootstrap rounds (sampling from the training set)\n",
        "        for performing the bias-variance decomposition. Each bootstrap\n",
        "        sample has the same size as the original training set.\n",
        "\n",
        "    random_seed : int (default=0)\n",
        "        Random seed for the bootstrap sampling used for the\n",
        "        bias-variance decomposition.\n",
        "\n",
        "    Returns\n",
        "    ----------\n",
        "    avg_bias, avg_var : returns the average bias, and average bias (all floats),\n",
        "                        where the average is computed over the data points\n",
        "                        in the test set.\n",
        "\n",
        "    \"\"\"\n",
        "    loss = \"mse\"\n",
        "\n",
        "    for ary in (X_train, y_train, X_test, y_test):\n",
        "        assert type(ary) == np.ndarray, \\\n",
        "            \"X_train, y_train, X_test, y_test have to be NumPy array. \\\n",
        "            If e.g., X_train is a pandas DataFrame, convert it to NumPy array \\\n",
        "            via X_train=X_train.values.\"\n",
        "\n",
        "    rng = np.random.RandomState(random_seed)\n",
        "\n",
        "    # All the predictions across different rounds\n",
        "    all_pred = np.zeros((num_rounds, y_test.shape[0]), dtype=np.float64)\n",
        "\n",
        "    for i in range(num_rounds):\n",
        "        # Randomly sample training data\n",
        "        X_boot, y_boot = _draw_bootstrap_sample(rng, X_train, y_train)\n",
        "\n",
        "        # Fit the model using the randomly sampled data\n",
        "        pred = estimator.fit(X_boot, y_boot).predict(X_test)\n",
        "        all_pred[i] = pred\n",
        "\n",
        "    # Mean prediction across runs using different dataset for each data point\n",
        "    main_predictions = np.mean(all_pred, axis=0)\n",
        "\n",
        "    # Average bias across different rounds\n",
        "    avg_bias = np.sum((main_predictions - y_test) ** 2) / y_test.size\n",
        "\n",
        "    # Average variance across different rounds\n",
        "    avg_var = np.sum((main_predictions - all_pred) ** 2) / all_pred.size\n",
        "\n",
        "    return avg_bias, avg_var"
      ]
    },
    {
      "cell_type": "code",
      "execution_count": 172,
      "id": "IvfmmzCuMgyd",
      "metadata": {
        "id": "IvfmmzCuMgyd",
        "colab": {
          "base_uri": "https://localhost:8080/"
        },
        "outputId": "2044e4da-8c00-47a4-9b34-edaae4311c7d"
      },
      "outputs": [
        {
          "output_type": "stream",
          "name": "stdout",
          "text": [
            "\n",
            "Evaluating Ordinal Logistic Regression with C = 0.01\n",
            "Bias    : 23.3953\n",
            "Variance: 1.0308\n",
            "\n",
            "Evaluating Ordinal Logistic Regression with C = 0.1\n",
            "Bias    : 22.5607\n",
            "Variance: 1.2802\n",
            "\n",
            "Evaluating Ordinal Logistic Regression with C = 1.0\n",
            "Bias    : 22.5375\n",
            "Variance: 1.2846\n",
            "\n",
            "Evaluating Ordinal Logistic Regression with C = 10.0\n",
            "Bias    : 22.5606\n",
            "Variance: 1.2643\n",
            "\n",
            "Evaluating Ordinal Logistic Regression with C = 100.0\n",
            "Bias    : 22.5561\n",
            "Variance: 1.2644\n",
            "\n",
            "Final Bias-Variance Tradeoff Analysis:\n",
            "C = 0.01: Bias = 23.3953, Variance = 1.0308\n",
            "C = 0.1: Bias = 22.5607, Variance = 1.2802\n",
            "C = 1.0: Bias = 22.5375, Variance = 1.2846\n",
            "C = 10.0: Bias = 22.5606, Variance = 1.2643\n",
            "C = 100.0: Bias = 22.5561, Variance = 1.2644\n"
          ]
        }
      ],
      "source": [
        "# Define different values of C to test (higher C = lower regularization, lower C = stronger regularization)\n",
        "C_values = [0.01, 0.1, 1.0, 10.0, 100.0]\n",
        "\n",
        "# Store results\n",
        "bias_results = []\n",
        "variance_results = []\n",
        "\n",
        "# Convert to NumPy arrays (ensure compatibility with bias_variance_decomp)\n",
        "X_train_np = np.array(train_df_selected)\n",
        "y_train_np = np.array(y_train)\n",
        "X_test_np = np.array(test_df_selected)\n",
        "y_test_np = np.array(y_test)\n",
        "\n",
        "# Loop over different C values and analyze bias-variance tradeoff\n",
        "for C in C_values:\n",
        "    print(f\"\\nEvaluating Ordinal Logistic Regression with C = {C}\")\n",
        "\n",
        "    # Initialize model with different regularization strengths\n",
        "    model = OrdinalLogisticRegression(max_iter=200, C=C)\n",
        "\n",
        "    # Compute bias and variance using bias-variance decomposition\n",
        "    avg_bias, avg_var = bias_variance_decomp(model, X_train_np, y_train_np,\n",
        "                                             X_test_np, y_test_np, num_rounds=10, random_seed=42)\n",
        "\n",
        "    # Store results\n",
        "    bias_results.append(avg_bias)\n",
        "    variance_results.append(avg_var)\n",
        "\n",
        "    # Print results for this C value\n",
        "    print(f\"Bias    : {avg_bias:.4f}\")\n",
        "    print(f\"Variance: {avg_var:.4f}\")"
      ]
    },
    {
      "cell_type": "code",
      "execution_count": 173,
      "id": "1UKn7k1KOnwd",
      "metadata": {
        "id": "1UKn7k1KOnwd"
      },
      "outputs": [],
      "source": [
        "#TODO: Discuss bias-variance trade-off of your ordinal logistic regression model\n",
        "\n",
        "# See answer in PDF"
      ]
    },
    {
      "cell_type": "markdown",
      "id": "yM6x1l0ylEai",
      "metadata": {
        "id": "yM6x1l0ylEai"
      },
      "source": [
        "# Question 4: Model Tuning"
      ]
    },
    {
      "cell_type": "markdown",
      "id": "Yd1b-XDKlgYe",
      "metadata": {
        "id": "Yd1b-XDKlgYe"
      },
      "source": [
        "- What are the hyperparameters we can potentially set for our ordinal logistic regression model?\n",
        "- Which hyperparameters seem to be worthwhile to tune?"
      ]
    },
    {
      "cell_type": "markdown",
      "id": "hCqdrfV9nWEP",
      "metadata": {
        "id": "hCqdrfV9nWEP"
      },
      "source": [
        "## Grid Search\n",
        "\n",
        "- Grid search will take time to complete - but if it does not finish in a few hours, you're probably trying too many combinations\n",
        "- A recommended approach is to try a small number of combinations with a wide range first (for continuous value hyperparameters)! Then gradually increase the points that seem to be near optimal"
      ]
    },
    {
      "cell_type": "code",
      "execution_count": 174,
      "id": "W2csig4uY7XO",
      "metadata": {
        "id": "W2csig4uY7XO",
        "colab": {
          "base_uri": "https://localhost:8080/"
        },
        "outputId": "382a263f-ae6a-4b65-dd3e-3ead09fdd790"
      },
      "outputs": [
        {
          "output_type": "stream",
          "name": "stdout",
          "text": [
            "Fitting 5 folds for each of 56 candidates, totalling 280 fits\n",
            "\n",
            "Best Parameters: {'C': 1, 'max_iter': 100}\n",
            "Best QWK Score: 0.4831083234849567\n"
          ]
        }
      ],
      "source": [
        "from sklearn.model_selection import GridSearchCV\n",
        "from sklearn.metrics import make_scorer, cohen_kappa_score\n",
        "\n",
        "# Define QWK as a scoring function\n",
        "def quadratic_weighted_kappa(y_true, y_pred):\n",
        "    return cohen_kappa_score(y_true, y_pred, weights=\"quadratic\")\n",
        "\n",
        "qwk_scorer = make_scorer(quadratic_weighted_kappa, greater_is_better=True)\n",
        "\n",
        "# Define expanded hyperparameter grid\n",
        "param_grid = {\n",
        "    'C': [1e-4, 1e-3, 1e-2, 1e-1, 1, 10, 100, 1000],\n",
        "    'max_iter': [100, 200, 300, 400, 500, 600, 700]\n",
        "}\n",
        "\n",
        "# Initialize model\n",
        "model = OrdinalLogisticRegression()\n",
        "\n",
        "# Initialize Grid Search with 5-fold cross-validation\n",
        "grid_search = GridSearchCV(\n",
        "    model, param_grid, scoring=qwk_scorer, cv=5, verbose=1, n_jobs=-1\n",
        ")\n",
        "\n",
        "# Run Grid Search\n",
        "grid_search.fit(train_df_selected, y_train)\n",
        "\n",
        "# Print best parameters and best QWK score\n",
        "print(\"\\nBest Parameters:\", grid_search.best_params_)\n",
        "print(\"Best QWK Score:\", grid_search.best_score_)"
      ]
    },
    {
      "cell_type": "markdown",
      "id": "4E7snhc_oCna",
      "metadata": {
        "id": "4E7snhc_oCna"
      },
      "source": [
        "## Visualize the feature importance of your model"
      ]
    },
    {
      "cell_type": "code",
      "source": [
        "from sklearn.preprocessing import StandardScaler\n",
        "\n",
        "scaler = StandardScaler()\n",
        "X_train_scaled = scaler.fit_transform(train_df_selected)\n",
        "X_test_scaled = scaler.transform(X_test)\n",
        "\n",
        "# Then use X_train_scaled to fit the model\n",
        "model = OrdinalLogisticRegression(max_iter=100 , C= 1) # Set the best-performing hyperparameters identified via grid search\n",
        "model.fit(X_train_scaled, y_train)"
      ],
      "metadata": {
        "colab": {
          "base_uri": "https://localhost:8080/"
        },
        "id": "xeZJsNN9-p8p",
        "outputId": "9fa735e1-2b49-4434-ed15-2eb34ff2c2cb"
      },
      "id": "xeZJsNN9-p8p",
      "execution_count": 175,
      "outputs": [
        {
          "output_type": "execute_result",
          "data": {
            "text/plain": [
              "<__main__.OrdinalLogisticRegression at 0x7e2e31722990>"
            ]
          },
          "metadata": {},
          "execution_count": 175
        }
      ]
    },
    {
      "cell_type": "code",
      "source": [
        "feature_names = train_df_selected.columns\n",
        "\n",
        "# Collect coefficients from each model\n",
        "coefs = np.array([np.abs(model_.coef_[0]) for model_ in model.models_])  # shape: (k-1, n_features)\n",
        "\n",
        "# Average the importance across models\n",
        "avg_importance = coefs.mean(axis=0)\n",
        "\n",
        "# Sort by importance\n",
        "sorted_idx = np.argsort(avg_importance)[::-1]\n",
        "\n",
        "# Plot top N most important features\n",
        "top_n = 10\n",
        "plt.figure(figsize=(10, 6))\n",
        "plt.barh(range(top_n), avg_importance[sorted_idx[:top_n]][::-1])\n",
        "plt.yticks(range(top_n), [feature_names[i] for i in sorted_idx[:top_n]][::-1])\n",
        "plt.xlabel(\"Average Absolute Coefficient (Importance)\")\n",
        "plt.title(\"Top Feature Importances in Ordinal Logistic Regression\")\n",
        "plt.tight_layout()\n",
        "plt.show()"
      ],
      "metadata": {
        "colab": {
          "base_uri": "https://localhost:8080/",
          "height": 607
        },
        "id": "kC9wDExZ_EW1",
        "outputId": "21db581c-0135-4cb6-dc4c-2c2f51a81d86"
      },
      "id": "kC9wDExZ_EW1",
      "execution_count": 176,
      "outputs": [
        {
          "output_type": "display_data",
          "data": {
            "text/plain": [
              "<Figure size 1000x600 with 1 Axes>"
            ],
            "image/png": "[encoded data removed]"
          },
          "metadata": {}
        }
      ]
    },
    {
      "cell_type": "markdown",
      "id": "goOzqrk3nJUw",
      "metadata": {
        "id": "goOzqrk3nJUw"
      },
      "source": [
        "# Question 5: Testing"
      ]
    },
    {
      "cell_type": "code",
      "execution_count": 177,
      "id": "u-nCZ_QnnKhF",
      "metadata": {
        "id": "u-nCZ_QnnKhF",
        "colab": {
          "base_uri": "https://localhost:8080/"
        },
        "outputId": "67068def-736a-4816-858f-3d73c555b315"
      },
      "outputs": [
        {
          "output_type": "stream",
          "name": "stdout",
          "text": [
            "\n",
            "Model Performance:\n",
            "Training Accuracy: 0.3906\n",
            "Test Accuracy: 0.3821\n",
            "Training QWK Score: 0.4813\n",
            "Test QWK Score: 0.4782\n",
            "\n",
            "Overfitting/Underfitting Analysis:\n",
            "Accuracy Gap (Train - Test): 0.0085\n",
            "QWK Score Gap (Train - Test): 0.0031\n",
            "Model seems to have a good balance (bias-variance tradeoff).\n"
          ]
        }
      ],
      "source": [
        "# Using the best-performing model, evaluate the model performance both on the training set and test set\n",
        "\n",
        "# Make predictions\n",
        "y_train_pred = model.predict(X_train_scaled)\n",
        "y_test_pred = model.predict(X_test_scaled)\n",
        "\n",
        "# Evaluate performance\n",
        "train_accuracy = accuracy_score(y_train, y_train_pred)\n",
        "test_accuracy = accuracy_score(y_test, y_test_pred)\n",
        "train_qwk = cohen_kappa_score(y_train, y_train_pred, weights=\"quadratic\")\n",
        "test_qwk = cohen_kappa_score(y_test, y_test_pred, weights=\"quadratic\")\n",
        "\n",
        "# Print results\n",
        "print(\"\\nModel Performance:\")\n",
        "print(f\"Training Accuracy: {train_accuracy:.4f}\")\n",
        "print(f\"Test Accuracy: {test_accuracy:.4f}\")\n",
        "print(f\"Training QWK Score: {train_qwk:.4f}\")\n",
        "print(f\"Test QWK Score: {test_qwk:.4f}\")\n",
        "\n",
        "# Compute the difference between train and test performance\n",
        "accuracy_gap = train_accuracy - test_accuracy\n",
        "qwk_gap = train_qwk - test_qwk\n",
        "\n",
        "print(\"\\nOverfitting/Underfitting Analysis:\")\n",
        "print(f\"Accuracy Gap (Train - Test): {accuracy_gap:.4f}\")\n",
        "print(f\"QWK Score Gap (Train - Test): {qwk_gap:.4f}\")\n",
        "\n",
        "if accuracy_gap > 0.05 or qwk_gap > 0.05:\n",
        "    print(\"Possible Overfitting: Training performance is much higher than test performance.\")\n",
        "elif accuracy_gap < -0.05 or qwk_gap < -0.05:\n",
        "    print(\"Possible Underfitting: Test performance is better than training performance, model might be too simple.\")\n",
        "else:\n",
        "    print(\"Model seems to have a good balance (bias-variance tradeoff).\")\n",
        "\n",
        "# Suggestions for improvement\n",
        "# print(\"\\nPotential Improvements:\")\n",
        "# print(\"- If overfitting: Increase regularization (`C` ↓) or add dropout-like noise in features.\")\n",
        "# print(\"- If underfitting: Increase model complexity (`C` ↑) or tune feature engineering.\")\n",
        "# print(\"- Try different feature selection strategies to see if it improves performance.\")\n"
      ]
    },
    {
      "cell_type": "code",
      "execution_count": 178,
      "id": "0-BMMRi0oIy5",
      "metadata": {
        "id": "0-BMMRi0oIy5",
        "colab": {
          "base_uri": "https://localhost:8080/",
          "height": 1000
        },
        "outputId": "176761a7-af23-4623-ad09-68647fb80656"
      },
      "outputs": [
        {
          "output_type": "display_data",
          "data": {
            "text/plain": [
              "<Figure size 1400x600 with 2 Axes>"
            ],
            "image/png": "[encoded data removed]"
          },
          "metadata": {}
        },
        {
          "output_type": "display_data",
          "data": {
            "text/plain": [
              "<Figure size 1400x600 with 2 Axes>"
            ],
            "image/png": "[encoded data removed]"
          },
          "metadata": {}
        }
      ],
      "source": [
        "# Plot the distribution of true target variable values and their predictions on both the training set and test set\n",
        "\n",
        "# Plot distribution on the training set\n",
        "plt.figure(figsize=(14, 6))\n",
        "\n",
        "# True target variable distribution on training set\n",
        "plt.subplot(1, 2, 1)\n",
        "sns.countplot(x=y_train, palette='viridis')\n",
        "plt.title('True Target Distribution - Training Set')\n",
        "plt.xlabel('Income Categories')\n",
        "plt.ylabel('Count')\n",
        "plt.xticks(rotation=45)\n",
        "\n",
        "# Predicted target variable distribution on training set\n",
        "plt.subplot(1, 2, 2)\n",
        "sns.countplot(x=y_train_pred, palette='magma')\n",
        "plt.title('Predicted Target Distribution - Training Set')\n",
        "plt.xlabel('Income Categories')\n",
        "plt.ylabel('Count')\n",
        "plt.xticks(rotation=45)\n",
        "\n",
        "plt.tight_layout()\n",
        "plt.show()\n",
        "\n",
        "# Plot distribution on the test set\n",
        "plt.figure(figsize=(14, 6))\n",
        "\n",
        "# True target variable distribution on test set\n",
        "plt.subplot(1, 2, 1)\n",
        "sns.countplot(x=y_test, palette='viridis')\n",
        "plt.title('True Target Distribution - Test Set')\n",
        "plt.xlabel('Income Categories')\n",
        "plt.ylabel('Count')\n",
        "plt.xticks(rotation=45)\n",
        "\n",
        "# Predicted target variable distribution on test set\n",
        "plt.subplot(1, 2, 2)\n",
        "sns.countplot(x=y_test_pred, palette='magma')\n",
        "plt.title('Predicted Target Distribution - Test Set')\n",
        "plt.xlabel('Income Categories')\n",
        "plt.ylabel('Count')\n",
        "plt.xticks(rotation=45)\n",
        "\n",
        "plt.tight_layout()\n",
        "plt.show()\n"
      ]
    }
  ],
  "metadata": {
    "colab": {
      "provenance": []
    },
    "kernelspec": {
      "display_name": "MIE1622",
      "language": "python",
      "name": "python3"
    },
    "language_info": {
      "codemirror_mode": {
        "name": "ipython",
        "version": 3
      },
      "file_extension": ".py",
      "mimetype": "text/x-python",
      "name": "python",
      "nbconvert_exporter": "python",
      "pygments_lexer": "ipython3",
      "version": "3.10.0"
    }
  },
  "nbformat": 4,
  "nbformat_minor": 5
}